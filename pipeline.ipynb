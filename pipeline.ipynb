{
 "cells": [
  {
   "cell_type": "code",
   "execution_count": 8,
   "metadata": {
    "collapsed": true
   },
   "outputs": [],
   "source": [
    "import pandas as pd\n",
    "import numpy as np\n",
    "import re\n",
    "from inout import *"
   ]
  },
  {
   "cell_type": "code",
   "execution_count": 50,
   "metadata": {
    "collapsed": true
   },
   "outputs": [],
   "source": [
    "file_name = 'b_should_be_easy.in'"
   ]
  },
  {
   "cell_type": "code",
   "execution_count": 51,
   "metadata": {},
   "outputs": [],
   "source": [
    "df, variables = read_file(file_name)"
   ]
  },
  {
   "cell_type": "code",
   "execution_count": 52,
   "metadata": {
    "collapsed": true
   },
   "outputs": [],
   "source": [
    "cars = [[[0, 0], 0]]*variables['n_cars']\n",
    "solutions = [[]]*variables['n_cars']"
   ]
  },
  {
   "cell_type": "code",
   "execution_count": 47,
   "metadata": {},
   "outputs": [],
   "source": [
    "def do_something(car, step):\n",
    "    if(not df.empty):\n",
    "        for i in range(0, len(df)):\n",
    "            row = df.iloc[0]\n",
    "            time_travel = np.abs(row.end_row - row.start_row) + np.abs(row.end_col - row.start_col)\n",
    "            time_to_go = np.abs(car[0][0] - row.start_row) + np.abs(car[0][1] - row.start_col)\n",
    "            time = time_travel + time_to_go\n",
    "            if(time < row.latest_end - row.earliest_start):\n",
    "                df.drop(df.index[i], inplace=True)\n",
    "                return int(row.name), time\n",
    "    else:\n",
    "        return -1, -1"
   ]
  },
  {
   "cell_type": "code",
   "execution_count": 48,
   "metadata": {},
   "outputs": [
    {
     "name": "stdout",
     "output_type": "stream",
     "text": [
      "1 [[0, 0], 1449]\n",
      "0 [[0, 0], 1448]\n",
      "1 [[0, 0], 1447]\n",
      "0 [[0, 0], 1446]\n",
      "1 [[0, 0], 1445]\n",
      "0 [[0, 0], 1444]\n",
      "1 [[0, 0], 1443]\n",
      "0 [[0, 0], 1442]\n",
      "1 [[0, 0], 1441]\n",
      "0 [[0, 0], 1440]\n",
      "1 [[0, 0], 1439]\n",
      "0 [[0, 0], 1438]\n",
      "1 [[0, 0], 1437]\n",
      "0 [[0, 0], 1436]\n",
      "1 [[0, 0], 1435]\n",
      "0 [[0, 0], 1434]\n",
      "1 [[0, 0], 1433]\n",
      "0 [[0, 0], 1432]\n",
      "1 [[0, 0], 1431]\n"
     ]
    }
   ],
   "source": [
    "for t in range(variables['steps']):\n",
    "    for idx, car in enumerate(cars):\n",
    "        if car[1] == 0:\n",
    "            task_taken, time_needed = do_something(car, t)\n",
    "            if (task_taken != -1):\n",
    "                car[1] = time_needed\n",
    "                solutions[idx] = solutions[idx] + [task_taken]\n",
    "        else:\n",
    "            print(idx, car)\n",
    "            car[1] -= 1"
   ]
  },
  {
   "cell_type": "code",
   "execution_count": 32,
   "metadata": {},
   "outputs": [],
   "source": [
    "write_solution(solutions)"
   ]
  },
  {
   "cell_type": "code",
   "execution_count": null,
   "metadata": {
    "collapsed": true
   },
   "outputs": [],
   "source": []
  }
 ],
 "metadata": {
  "kernelspec": {
   "display_name": "Python 3",
   "language": "python",
   "name": "python3"
  },
  "language_info": {
   "codemirror_mode": {
    "name": "ipython",
    "version": 3
   },
   "file_extension": ".py",
   "mimetype": "text/x-python",
   "name": "python",
   "nbconvert_exporter": "python",
   "pygments_lexer": "ipython3",
   "version": "3.6.3"
  }
 },
 "nbformat": 4,
 "nbformat_minor": 2
}
