{
 "cells": [
  {
   "cell_type": "code",
   "execution_count": 3,
   "metadata": {
    "collapsed": true
   },
   "outputs": [],
   "source": [
    "def dist(x, y):\n",
    "    return abs(x[0] - y[0]) + abs(x[1] - y[1])\n",
    "\n",
    "def gain_ride(start_pos, finish_pos, early_start, lastest_finish, current_time, bonus):\n",
    "    pass\n",
    "\n",
    "def gain_car(pos_car, start_pos, finish_pos, early_start, lastest_finish, current_time, bonus):\n",
    "    \"\"\"\n",
    "    Return : (gain, time_needed) a tupple that is composed as first position of the \n",
    "    gain you obtain by taking this ride, and at second position the time in number of step\n",
    "    until when the car will be free again. If gain is > 0 the car will be awalible at finish_pos after time_needed steps. \n",
    "    \"\"\"\n",
    "    dist2start = dist(pos_car, start_pos)\n",
    "    dist_ride = dist(start_pos, finish_pos)\n",
    "    \n",
    "    if current_time + dist2start + dist_ride > lastest_finish:\n",
    "        return (0, 0) #its impossible for this car to arrive on time at the finish\n",
    "    \n",
    "    gain = dist_ride #the reward is equal to the distance from start to end\n",
    "    \n",
    "    if current_time + dist2start <= early_start:\n",
    "        #when on time at the begining we recieve a bonus\n",
    "        gain+= bonus\n",
    "    \n",
    "    #Dont need to check if the ride is feasable, we assume it is!!!\n",
    "    \n",
    "    return (gain, dist2start + dist_ride)"
   ]
  },
  {
   "cell_type": "code",
   "execution_count": 8,
   "metadata": {},
   "outputs": [
    {
     "data": {
      "text/plain": [
       "(40, 30)"
      ]
     },
     "execution_count": 8,
     "metadata": {},
     "output_type": "execute_result"
    }
   ],
   "source": [
    "#test\n",
    "gain_car((0,0), (10,10), (10,20), 20, 1000, 0, 30)"
   ]
  },
  {
   "cell_type": "code",
   "execution_count": null,
   "metadata": {
    "collapsed": true
   },
   "outputs": [],
   "source": []
  }
 ],
 "metadata": {
  "kernelspec": {
   "display_name": "Python 3",
   "language": "python",
   "name": "python3"
  },
  "language_info": {
   "codemirror_mode": {
    "name": "ipython",
    "version": 3
   },
   "file_extension": ".py",
   "mimetype": "text/x-python",
   "name": "python",
   "nbconvert_exporter": "python",
   "pygments_lexer": "ipython3",
   "version": "3.6.3"
  }
 },
 "nbformat": 4,
 "nbformat_minor": 2
}
