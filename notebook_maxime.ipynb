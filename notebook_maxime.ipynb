{
 "cells": [
  {
   "cell_type": "code",
   "execution_count": 1,
   "metadata": {
    "collapsed": true
   },
   "outputs": [],
   "source": [
    "import pandas as pd\n",
    "import numpy as np\n",
    "import seaborn as sns\n",
    "import re\n",
    "import inout\n",
    "from tqdm import tqdm_notebook as tqdm"
   ]
  },
  {
   "cell_type": "code",
   "execution_count": 2,
   "metadata": {
    "collapsed": true
   },
   "outputs": [],
   "source": [
    "df = pd.read_csv('e_high_bonus.in', sep=' ')\n",
    "df.columns = ['start_row', 'start_col', 'end_row', 'end_col', 'earliest_start', 'latest_end']\n",
    "\n",
    "with open('e_high_bonus.in') as f:\n",
    "    first_line = re.sub(r'\\n', '', f.readline())\n",
    "    \n",
    "variables = dict(zip(['n_rows', 'n_cols', 'n_cars', 'n_rides', 'bonus', 'steps'], [int(st) for st in first_line.split(\" \")]))"
   ]
  },
  {
   "cell_type": "code",
   "execution_count": 3,
   "metadata": {},
   "outputs": [
    {
     "data": {
      "text/plain": [
       "{'bonus': 1000,\n",
       " 'n_cars': 350,\n",
       " 'n_cols': 2000,\n",
       " 'n_rides': 10000,\n",
       " 'n_rows': 1500,\n",
       " 'steps': 150000}"
      ]
     },
     "execution_count": 3,
     "metadata": {},
     "output_type": "execute_result"
    }
   ],
   "source": [
    "variables"
   ]
  },
  {
   "cell_type": "code",
   "execution_count": 4,
   "metadata": {
    "collapsed": true
   },
   "outputs": [],
   "source": [
    "cars = [[[0, 0], 0]]*variables['n_cars']"
   ]
  },
  {
   "cell_type": "code",
   "execution_count": 5,
   "metadata": {
    "collapsed": true
   },
   "outputs": [],
   "source": [
    "solutions = [[]]*variables['n_cars']"
   ]
  },
  {
   "cell_type": "code",
   "execution_count": 6,
   "metadata": {
    "collapsed": true
   },
   "outputs": [],
   "source": [
    "def car_is_free(car):\n",
    "    return car[1] <= 0"
   ]
  },
  {
   "cell_type": "code",
   "execution_count": 7,
   "metadata": {},
   "outputs": [
    {
     "data": {
      "text/html": [
       "<div>\n",
       "<style>\n",
       "    .dataframe thead tr:only-child th {\n",
       "        text-align: right;\n",
       "    }\n",
       "\n",
       "    .dataframe thead th {\n",
       "        text-align: left;\n",
       "    }\n",
       "\n",
       "    .dataframe tbody tr th {\n",
       "        vertical-align: top;\n",
       "    }\n",
       "</style>\n",
       "<table border=\"1\" class=\"dataframe\">\n",
       "  <thead>\n",
       "    <tr style=\"text-align: right;\">\n",
       "      <th></th>\n",
       "      <th>start_row</th>\n",
       "      <th>start_col</th>\n",
       "      <th>end_row</th>\n",
       "      <th>end_col</th>\n",
       "      <th>earliest_start</th>\n",
       "      <th>latest_end</th>\n",
       "    </tr>\n",
       "  </thead>\n",
       "  <tbody>\n",
       "    <tr>\n",
       "      <th>0</th>\n",
       "      <td>295</td>\n",
       "      <td>1043</td>\n",
       "      <td>796</td>\n",
       "      <td>1955</td>\n",
       "      <td>38684</td>\n",
       "      <td>51050</td>\n",
       "    </tr>\n",
       "    <tr>\n",
       "      <th>1</th>\n",
       "      <td>434</td>\n",
       "      <td>467</td>\n",
       "      <td>200</td>\n",
       "      <td>833</td>\n",
       "      <td>89213</td>\n",
       "      <td>91692</td>\n",
       "    </tr>\n",
       "    <tr>\n",
       "      <th>2</th>\n",
       "      <td>1473</td>\n",
       "      <td>1815</td>\n",
       "      <td>1321</td>\n",
       "      <td>810</td>\n",
       "      <td>17720</td>\n",
       "      <td>26914</td>\n",
       "    </tr>\n",
       "    <tr>\n",
       "      <th>3</th>\n",
       "      <td>1210</td>\n",
       "      <td>150</td>\n",
       "      <td>1287</td>\n",
       "      <td>12</td>\n",
       "      <td>23916</td>\n",
       "      <td>24939</td>\n",
       "    </tr>\n",
       "    <tr>\n",
       "      <th>4</th>\n",
       "      <td>814</td>\n",
       "      <td>563</td>\n",
       "      <td>1341</td>\n",
       "      <td>419</td>\n",
       "      <td>21032</td>\n",
       "      <td>26079</td>\n",
       "    </tr>\n",
       "  </tbody>\n",
       "</table>\n",
       "</div>"
      ],
      "text/plain": [
       "   start_row  start_col  end_row  end_col  earliest_start  latest_end\n",
       "0        295       1043      796     1955           38684       51050\n",
       "1        434        467      200      833           89213       91692\n",
       "2       1473       1815     1321      810           17720       26914\n",
       "3       1210        150     1287       12           23916       24939\n",
       "4        814        563     1341      419           21032       26079"
      ]
     },
     "execution_count": 7,
     "metadata": {},
     "output_type": "execute_result"
    }
   ],
   "source": [
    "df.head()"
   ]
  },
  {
   "cell_type": "code",
   "execution_count": 8,
   "metadata": {},
   "outputs": [
    {
     "data": {
      "text/plain": [
       "start_row           434\n",
       "start_col           467\n",
       "end_row             200\n",
       "end_col             833\n",
       "earliest_start    89213\n",
       "latest_end        91692\n",
       "Name: 1, dtype: int64"
      ]
     },
     "execution_count": 8,
     "metadata": {},
     "output_type": "execute_result"
    }
   ],
   "source": [
    "df.iloc[1]"
   ]
  },
  {
   "cell_type": "code",
   "execution_count": 9,
   "metadata": {
    "collapsed": true
   },
   "outputs": [],
   "source": [
    "def dist(x, y):\n",
    "    return abs(x[0] - y[0]) + abs(x[1] - y[1])\n",
    "\n",
    "def gain_ride(start_pos, finish_pos, early_start, lastest_finish, current_time, bonus):\n",
    "    pass\n",
    "\n",
    "def gain_car(pos_car, start_pos, finish_pos, early_start, lastest_finish, current_time, bonus):\n",
    "    \"\"\"\n",
    "    Return : (gain, time_needed) a tupple that is composed as first position of the \n",
    "    gain you obtain by taking this ride, and at second position the time in number of step\n",
    "    until when the car will be free again. If gain is > 0 the car will be awalible at finish_pos after time_needed steps. \n",
    "    \"\"\"\n",
    "    dist2start = dist(pos_car, start_pos)\n",
    "    dist_ride = dist(start_pos, finish_pos)\n",
    "    \n",
    "    if (current_time + dist2start + dist_ride) > lastest_finish:\n",
    "        return (0, 0) #its impossible for this car to arrive on time at the finish\n",
    "    \n",
    "    gain = dist_ride #the reward is equal to the distance from start to end\n",
    "    \n",
    "    if (current_time + dist2start) <= early_start:\n",
    "        #when on time at the begining we recieve a bonus\n",
    "        gain+= bonus\n",
    "    \n",
    "    #Dont need to check if the ride is feasable, we assume it is!!!\n",
    "    \n",
    "    return (gain, max(dist2start, early_start - current_time) + dist_ride)"
   ]
  },
  {
   "cell_type": "code",
   "execution_count": null,
   "metadata": {},
   "outputs": [],
   "source": [
    "df = df.sort_values('earliest_start')"
   ]
  },
  {
   "cell_type": "code",
   "execution_count": null,
   "metadata": {},
   "outputs": [
    {
     "data": {
      "application/vnd.jupyter.widget-view+json": {
       "model_id": "6f67d332a917456bb7a642e57d034758",
       "version_major": 2,
       "version_minor": 0
      },
      "text/plain": [
       "A Jupyter Widget"
      ]
     },
     "metadata": {},
     "output_type": "display_data"
    }
   ],
   "source": [
    "has_break = False\n",
    "for t in tqdm(range(variables['steps'])):\n",
    "    df = df[df.earliest_start >= t]\n",
    "    if has_break:\n",
    "        break\n",
    "    for idx, car in enumerate(cars):\n",
    "        if car_is_free(car):\n",
    "            #get best ride\n",
    "            max_gain = -1\n",
    "            index = -1\n",
    "            for r in df[0:100].iterrows():\n",
    "                #print(r)\n",
    "                gain, delta = gain_car(car[0], (r[1].start_row, r[1].start_col), (r[1].end_row, r[1].end_col), r[1].earliest_start, r[1].latest_end, t, variables['bonus'])\n",
    "                if gain > max_gain:\n",
    "                    max_gain = gain\n",
    "                    index = r[0]\n",
    "            #print(index)\n",
    "            #print(\"lenght : \" + str(len(df)))\n",
    "            r = df.loc[index]\n",
    "            task_taken, time_needed = gain_car(car[0], (r.start_row, r.start_col), (r.end_row, r.end_col), r.earliest_start, r.latest_end, t, variables['bonus'])\n",
    "            car[1] = time_needed\n",
    "            solutions[idx] = solutions[idx] + [index]\n",
    "            df = df.drop(index)\n",
    "            if len(df) <= 0:\n",
    "                print(\"jesds\")\n",
    "                has_break = True\n",
    "                break\n",
    "        else:\n",
    "            car[1] -= 1"
   ]
  },
  {
   "cell_type": "code",
   "execution_count": null,
   "metadata": {
    "collapsed": true
   },
   "outputs": [],
   "source": [
    "#solutions[0] = solutions[0] + [10]"
   ]
  },
  {
   "cell_type": "code",
   "execution_count": null,
   "metadata": {},
   "outputs": [],
   "source": [
    "solutions"
   ]
  },
  {
   "cell_type": "code",
   "execution_count": null,
   "metadata": {},
   "outputs": [],
   "source": [
    "inout.write_solution(solutions)"
   ]
  },
  {
   "cell_type": "code",
   "execution_count": null,
   "metadata": {
    "collapsed": true
   },
   "outputs": [],
   "source": []
  }
 ],
 "metadata": {
  "kernelspec": {
   "display_name": "Python 3",
   "language": "python",
   "name": "python3"
  },
  "language_info": {
   "codemirror_mode": {
    "name": "ipython",
    "version": 3
   },
   "file_extension": ".py",
   "mimetype": "text/x-python",
   "name": "python",
   "nbconvert_exporter": "python",
   "pygments_lexer": "ipython3",
   "version": "3.6.3"
  }
 },
 "nbformat": 4,
 "nbformat_minor": 2
}
