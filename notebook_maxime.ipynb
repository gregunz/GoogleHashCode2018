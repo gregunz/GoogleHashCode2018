{
 "cells": [
  {
   "cell_type": "code",
   "execution_count": 1,
   "metadata": {
    "collapsed": true
   },
   "outputs": [],
   "source": [
    "import pandas as pd\n",
    "import numpy as np\n",
    "import seaborn as sns\n",
    "import re\n",
    "import inout"
   ]
  },
  {
   "cell_type": "code",
   "execution_count": 2,
   "metadata": {
    "collapsed": true
   },
   "outputs": [],
   "source": [
    "df = pd.read_csv('b_should_be_easy.in', sep=' ')\n",
    "df.columns = ['start_row', 'start_col', 'end_row', 'end_col', 'earliest_start', 'latest_end']\n",
    "\n",
    "with open('b_should_be_easy.in') as f:\n",
    "    first_line = re.sub(r'\\n', '', f.readline())\n",
    "    \n",
    "variables = dict(zip(['n_rows', 'n_cols', 'n_cars', 'n_rides', 'bonus', 'steps'], [int(st) for st in first_line.split(\" \")]))"
   ]
  },
  {
   "cell_type": "code",
   "execution_count": 3,
   "metadata": {},
   "outputs": [
    {
     "data": {
      "text/plain": [
       "{'bonus': 25,\n",
       " 'n_cars': 100,\n",
       " 'n_cols': 1000,\n",
       " 'n_rides': 300,\n",
       " 'n_rows': 800,\n",
       " 'steps': 25000}"
      ]
     },
     "execution_count": 3,
     "metadata": {},
     "output_type": "execute_result"
    }
   ],
   "source": [
    "variables"
   ]
  },
  {
   "cell_type": "code",
   "execution_count": 4,
   "metadata": {
    "collapsed": true
   },
   "outputs": [],
   "source": [
    "cars = [[[0, 0], 0]]*variables['n_cars']"
   ]
  },
  {
   "cell_type": "code",
   "execution_count": 5,
   "metadata": {
    "collapsed": true
   },
   "outputs": [],
   "source": [
    "solutions = [[]]*variables['n_cars']"
   ]
  },
  {
   "cell_type": "code",
   "execution_count": 6,
   "metadata": {
    "collapsed": true
   },
   "outputs": [],
   "source": [
    "def car_is_free(car):\n",
    "    return car[1] <= 0"
   ]
  },
  {
   "cell_type": "code",
   "execution_count": 7,
   "metadata": {},
   "outputs": [
    {
     "data": {
      "text/html": [
       "<div>\n",
       "<style>\n",
       "    .dataframe thead tr:only-child th {\n",
       "        text-align: right;\n",
       "    }\n",
       "\n",
       "    .dataframe thead th {\n",
       "        text-align: left;\n",
       "    }\n",
       "\n",
       "    .dataframe tbody tr th {\n",
       "        vertical-align: top;\n",
       "    }\n",
       "</style>\n",
       "<table border=\"1\" class=\"dataframe\">\n",
       "  <thead>\n",
       "    <tr style=\"text-align: right;\">\n",
       "      <th></th>\n",
       "      <th>start_row</th>\n",
       "      <th>start_col</th>\n",
       "      <th>end_row</th>\n",
       "      <th>end_col</th>\n",
       "      <th>earliest_start</th>\n",
       "      <th>latest_end</th>\n",
       "    </tr>\n",
       "  </thead>\n",
       "  <tbody>\n",
       "    <tr>\n",
       "      <th>0</th>\n",
       "      <td>395</td>\n",
       "      <td>43</td>\n",
       "      <td>296</td>\n",
       "      <td>955</td>\n",
       "      <td>244</td>\n",
       "      <td>3620</td>\n",
       "    </tr>\n",
       "    <tr>\n",
       "      <th>1</th>\n",
       "      <td>734</td>\n",
       "      <td>467</td>\n",
       "      <td>300</td>\n",
       "      <td>833</td>\n",
       "      <td>21919</td>\n",
       "      <td>23595</td>\n",
       "    </tr>\n",
       "    <tr>\n",
       "      <th>2</th>\n",
       "      <td>473</td>\n",
       "      <td>815</td>\n",
       "      <td>21</td>\n",
       "      <td>810</td>\n",
       "      <td>24428</td>\n",
       "      <td>24959</td>\n",
       "    </tr>\n",
       "    <tr>\n",
       "      <th>3</th>\n",
       "      <td>210</td>\n",
       "      <td>150</td>\n",
       "      <td>387</td>\n",
       "      <td>12</td>\n",
       "      <td>12646</td>\n",
       "      <td>13491</td>\n",
       "    </tr>\n",
       "    <tr>\n",
       "      <th>4</th>\n",
       "      <td>314</td>\n",
       "      <td>563</td>\n",
       "      <td>141</td>\n",
       "      <td>419</td>\n",
       "      <td>2744</td>\n",
       "      <td>3381</td>\n",
       "    </tr>\n",
       "  </tbody>\n",
       "</table>\n",
       "</div>"
      ],
      "text/plain": [
       "   start_row  start_col  end_row  end_col  earliest_start  latest_end\n",
       "0        395         43      296      955             244        3620\n",
       "1        734        467      300      833           21919       23595\n",
       "2        473        815       21      810           24428       24959\n",
       "3        210        150      387       12           12646       13491\n",
       "4        314        563      141      419            2744        3381"
      ]
     },
     "execution_count": 7,
     "metadata": {},
     "output_type": "execute_result"
    }
   ],
   "source": [
    "df.head()"
   ]
  },
  {
   "cell_type": "code",
   "execution_count": 8,
   "metadata": {},
   "outputs": [
    {
     "data": {
      "text/plain": [
       "start_row           734\n",
       "start_col           467\n",
       "end_row             300\n",
       "end_col             833\n",
       "earliest_start    21919\n",
       "latest_end        23595\n",
       "Name: 1, dtype: int64"
      ]
     },
     "execution_count": 8,
     "metadata": {},
     "output_type": "execute_result"
    }
   ],
   "source": [
    "df.iloc[1]"
   ]
  },
  {
   "cell_type": "code",
   "execution_count": 9,
   "metadata": {
    "collapsed": true
   },
   "outputs": [],
   "source": [
    "def dist(x, y):\n",
    "    return abs(x[0] - y[0]) + abs(x[1] - y[1])\n",
    "\n",
    "def gain_ride(start_pos, finish_pos, early_start, lastest_finish, current_time, bonus):\n",
    "    pass\n",
    "\n",
    "def gain_car(pos_car, start_pos, finish_pos, early_start, lastest_finish, current_time, bonus):\n",
    "    \"\"\"\n",
    "    Return : (gain, time_needed) a tupple that is composed as first position of the \n",
    "    gain you obtain by taking this ride, and at second position the time in number of step\n",
    "    until when the car will be free again. If gain is > 0 the car will be awalible at finish_pos after time_needed steps. \n",
    "    \"\"\"\n",
    "    dist2start = dist(pos_car, start_pos)\n",
    "    dist_ride = dist(start_pos, finish_pos)\n",
    "    \n",
    "    if current_time + dist2start + dist_ride > lastest_finish:\n",
    "        return (0, 0) #its impossible for this car to arrive on time at the finish\n",
    "    \n",
    "    gain = dist_ride #the reward is equal to the distance from start to end\n",
    "    \n",
    "    if current_time + dist2start <= early_start:\n",
    "        #when on time at the begining we recieve a bonus\n",
    "        gain+= bonus\n",
    "    \n",
    "    #Dont need to check if the ride is feasable, we assume it is!!!\n",
    "    \n",
    "    return (gain, dist2start + dist_ride)"
   ]
  },
  {
   "cell_type": "code",
   "execution_count": 10,
   "metadata": {},
   "outputs": [
    {
     "name": "stdout",
     "output_type": "stream",
     "text": [
      "jesds\n"
     ]
    }
   ],
   "source": [
    "has_break = False\n",
    "for t in range(variables['steps']):\n",
    "    if has_break:\n",
    "        break\n",
    "    for idx, car in enumerate(cars):\n",
    "        if car_is_free(car):\n",
    "            #get best ride\n",
    "            max_gain = -1\n",
    "            index = -1\n",
    "            for r in df.iterrows():\n",
    "                #print(r)\n",
    "                gain, delta = gain_car(car[0], (r[1].start_row, r[1].start_col), (r[1].end_row, r[1].end_col), r[1].earliest_start, r[1].latest_end, t, variables['bonus'])\n",
    "                if gain > max_gain:\n",
    "                    max_gain = gain\n",
    "                    index = r[0]\n",
    "            #print(index)\n",
    "            #print(\"lenght : \" + str(len(df)))\n",
    "            r = df.loc[index]\n",
    "            task_taken, time_needed = gain_car(car[0], (r.start_row, r.start_col), (r.end_row, r.end_col), r.earliest_start, r.latest_end, t, variables['bonus'])\n",
    "            car[1] = time_needed\n",
    "            solutions[idx] = solutions[idx] + [index]\n",
    "            df = df.drop(index)\n",
    "            if len(df) <= 0:\n",
    "                print(\"jesds\")\n",
    "                has_break = True\n",
    "                break\n",
    "        else:\n",
    "            car[1] -= 1"
   ]
  },
  {
   "cell_type": "code",
   "execution_count": 11,
   "metadata": {
    "collapsed": true
   },
   "outputs": [],
   "source": [
    "#solutions[0] = solutions[0] + [10]"
   ]
  },
  {
   "cell_type": "code",
   "execution_count": 12,
   "metadata": {},
   "outputs": [
    {
     "data": {
      "text/plain": [
       "[[213, 37, 215, 124],\n",
       " [103, 232, 128, 210],\n",
       " [259, 143, 189],\n",
       " [],\n",
       " [271, 70],\n",
       " [68, 73, 113, 200, 93],\n",
       " [135, 9, 211],\n",
       " [242, 293, 292],\n",
       " [152, 177, 235, 23],\n",
       " [142, 122],\n",
       " [290, 174, 139, 77, 191, 172],\n",
       " [156, 22],\n",
       " [],\n",
       " [45],\n",
       " [282, 21, 129, 230],\n",
       " [],\n",
       " [13],\n",
       " [11, 39, 291],\n",
       " [1, 153, 199],\n",
       " [239],\n",
       " [257, 40, 251],\n",
       " [295, 159, 20, 56],\n",
       " [10, 69, 130, 115],\n",
       " [78, 231],\n",
       " [85, 6],\n",
       " [94, 50, 133, 31],\n",
       " [126, 249, 245, 298],\n",
       " [],\n",
       " [155, 35, 241],\n",
       " [28],\n",
       " [119, 205, 244, 204, 44, 52],\n",
       " [207],\n",
       " [12],\n",
       " [233, 252, 4],\n",
       " [49, 198, 255, 7],\n",
       " [297, 8],\n",
       " [285, 287, 24],\n",
       " [138, 202, 57, 33],\n",
       " [104, 107, 109, 225, 38, 34],\n",
       " [214, 209, 36],\n",
       " [101, 41],\n",
       " [114, 178, 157, 54],\n",
       " [187, 65],\n",
       " [269, 274, 72],\n",
       " [223, 123, 283, 222, 87],\n",
       " [84, 88],\n",
       " [99],\n",
       " [5, 90, 280, 108],\n",
       " [63, 89, 82, 236, 136, 183, 110],\n",
       " [161, 254, 116],\n",
       " [181, 150, 134],\n",
       " [158, 194, 164],\n",
       " [91, 26, 167],\n",
       " [75, 243, 250, 168],\n",
       " [111, 179],\n",
       " [83, 281, 60, 175, 268, 184],\n",
       " [112, 98, 154, 140, 218, 166, 216],\n",
       " [171, 30, 64, 220],\n",
       " [217, 221],\n",
       " [121, 234],\n",
       " [131, 42, 27, 144, 58, 246],\n",
       " [43, 14, 125, 275],\n",
       " [95, 145, 173, 53, 286],\n",
       " [59, 224, 97, 147, 117, 253, 299],\n",
       " [19, 137, 29],\n",
       " [15, 169],\n",
       " [],\n",
       " [203, 146, 266],\n",
       " [151, 229],\n",
       " [288, 206, 260, 74],\n",
       " [162, 240, 176, 132],\n",
       " [185, 170, 208, 276, 102],\n",
       " [71, 262, 165, 193],\n",
       " [264, 270],\n",
       " [51],\n",
       " [256],\n",
       " [61, 163, 188],\n",
       " [294],\n",
       " [284, 2, 182],\n",
       " [141, 237, 47, 195, 263],\n",
       " [62, 32],\n",
       " [265, 48, 277],\n",
       " [106, 228],\n",
       " [273, 238, 278],\n",
       " [180, 148, 76],\n",
       " [219, 197],\n",
       " [279],\n",
       " [248, 120],\n",
       " [272, 80],\n",
       " [190, 92, 149],\n",
       " [25, 192, 100],\n",
       " [0, 96, 16, 67, 18, 81, 261, 55, 118, 86],\n",
       " [196, 127, 201, 226, 160, 267],\n",
       " [],\n",
       " [105, 247, 66],\n",
       " [258, 79, 46],\n",
       " [3],\n",
       " [289],\n",
       " [296, 212, 17],\n",
       " [227, 186]]"
      ]
     },
     "execution_count": 12,
     "metadata": {},
     "output_type": "execute_result"
    }
   ],
   "source": [
    "solutions"
   ]
  },
  {
   "cell_type": "code",
   "execution_count": 13,
   "metadata": {},
   "outputs": [],
   "source": [
    "inout.write_solution(solutions)"
   ]
  },
  {
   "cell_type": "code",
   "execution_count": null,
   "metadata": {
    "collapsed": true
   },
   "outputs": [],
   "source": []
  }
 ],
 "metadata": {
  "kernelspec": {
   "display_name": "Python 3",
   "language": "python",
   "name": "python3"
  },
  "language_info": {
   "codemirror_mode": {
    "name": "ipython",
    "version": 3
   },
   "file_extension": ".py",
   "mimetype": "text/x-python",
   "name": "python",
   "nbconvert_exporter": "python",
   "pygments_lexer": "ipython3",
   "version": "3.6.3"
  }
 },
 "nbformat": 4,
 "nbformat_minor": 2
}
