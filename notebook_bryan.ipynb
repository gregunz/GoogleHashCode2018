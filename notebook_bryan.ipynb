{
 "cells": [
  {
   "cell_type": "code",
   "execution_count": 23,
   "metadata": {
    "collapsed": true
   },
   "outputs": [],
   "source": [
    "import pandas as pd\n",
    "import numpy as np\n",
    "import seaborn as sns\n",
    "import re"
   ]
  },
  {
   "cell_type": "code",
   "execution_count": 46,
   "metadata": {},
   "outputs": [],
   "source": [
    "# Reader\n",
    "\n",
    "def read_file(file_name):\n",
    "    df = pd.read_csv(file_name, sep=' ')\n",
    "    df.columns = ['start_row', 'start_col', 'end_row', 'end_col', 'earliest_start', 'latest_end']\n",
    "\n",
    "    with open('a_example.in') as f:\n",
    "        first_line = re.sub(r'\\n', '', f.readline())\n",
    "\n",
    "    variables = dict(zip(['n_rows', 'n_cols', 'n_cars', 'n_rides', 'bonus', 'steps'], [int(st) for st in first_line.split(\" \")]))\n",
    "    return df, variables"
   ]
  },
  {
   "cell_type": "code",
   "execution_count": 47,
   "metadata": {},
   "outputs": [],
   "source": [
    "df, variables = read_file('a_example.in')"
   ]
  },
  {
   "cell_type": "code",
   "execution_count": 49,
   "metadata": {},
   "outputs": [
    {
     "data": {
      "text/plain": [
       "{'bonus': 2, 'n_cars': 2, 'n_cols': 4, 'n_rides': 3, 'n_rows': 3, 'steps': 10}"
      ]
     },
     "execution_count": 49,
     "metadata": {},
     "output_type": "execute_result"
    }
   ],
   "source": [
    "variables"
   ]
  },
  {
   "cell_type": "code",
   "execution_count": 32,
   "metadata": {
    "collapsed": true
   },
   "outputs": [],
   "source": [
    "solutions = [[0, 1], [0], [0, 1, 2]]"
   ]
  },
  {
   "cell_type": "code",
   "execution_count": 43,
   "metadata": {},
   "outputs": [],
   "source": [
    "#Writer\n",
    "def write_solution(solutions):\n",
    "    solution_file = open('solution.out','w') \n",
    "    for s in solutions:\n",
    "        solution_file.write(str(len(s)) + ' ')\n",
    "        for r in s:\n",
    "            solution_file.write(str(r) + ' ')\n",
    "        solution_file.write('\\n')\n",
    "\n",
    "    solution_file.close()"
   ]
  },
  {
   "cell_type": "code",
   "execution_count": 44,
   "metadata": {
    "collapsed": true
   },
   "outputs": [],
   "source": [
    "write_solution(solutions)"
   ]
  },
  {
   "cell_type": "code",
   "execution_count": null,
   "metadata": {
    "collapsed": true
   },
   "outputs": [],
   "source": []
  }
 ],
 "metadata": {
  "kernelspec": {
   "display_name": "Python 3",
   "language": "python",
   "name": "python3"
  },
  "language_info": {
   "codemirror_mode": {
    "name": "ipython",
    "version": 3
   },
   "file_extension": ".py",
   "mimetype": "text/x-python",
   "name": "python",
   "nbconvert_exporter": "python",
   "pygments_lexer": "ipython3",
   "version": "3.6.3"
  }
 },
 "nbformat": 4,
 "nbformat_minor": 2
}
